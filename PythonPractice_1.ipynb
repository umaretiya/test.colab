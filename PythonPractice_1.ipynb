{
  "nbformat": 4,
  "nbformat_minor": 0,
  "metadata": {
    "colab": {
      "name": "PythonPractice#1.ipynb",
      "provenance": [],
      "authorship_tag": "ABX9TyOPCVPeRBGKWHRfWFdBa5Ok",
      "include_colab_link": true
    },
    "kernelspec": {
      "name": "python3",
      "display_name": "Python 3"
    },
    "language_info": {
      "name": "python"
    }
  },
  "cells": [
    {
      "cell_type": "markdown",
      "metadata": {
        "id": "view-in-github",
        "colab_type": "text"
      },
      "source": [
        "<a href=\"https://colab.research.google.com/github/umaretiya/test.colab/blob/main/PythonPractice_1.ipynb\" target=\"_parent\"><img src=\"https://colab.research.google.com/assets/colab-badge.svg\" alt=\"Open In Colab\"/></a>"
      ]
    },
    {
      "cell_type": "code",
      "source": [
        "me"
      ],
      "metadata": {
        "id": "TVwn4b41IhFm"
      },
      "execution_count": null,
      "outputs": []
    },
    {
      "cell_type": "markdown",
      "source": [
        "'Area of Circle = pi * r**2'"
      ],
      "metadata": {
        "id": "Zx6_9VyNzJPS"
      }
    },
    {
      "cell_type": "code",
      "source": [
        "r = 5\n",
        "pi = 3.14\n",
        "a = pi*r**2\n",
        "\n",
        "print(\"Area:\",a)\n"
      ],
      "metadata": {
        "colab": {
          "base_uri": "https://localhost:8080/"
        },
        "id": "cKVGXxZDEjVQ",
        "outputId": "89bc96b2-8090-4afd-9b0a-7ce9bcb2f5de"
      },
      "execution_count": 2,
      "outputs": [
        {
          "output_type": "stream",
          "name": "stdout",
          "text": [
            "Area: 78.5\n"
          ]
        }
      ]
    },
    {
      "cell_type": "code",
      "source": [
        "import numpy as np\n",
        "\n",
        "np.__version__"
      ],
      "metadata": {
        "colab": {
          "base_uri": "https://localhost:8080/",
          "height": 35
        },
        "id": "xsBucrdXJG7P",
        "outputId": "a575b1bb-3c3a-4103-9673-5345a79ed0c4"
      },
      "execution_count": null,
      "outputs": [
        {
          "output_type": "execute_result",
          "data": {
            "application/vnd.google.colaboratory.intrinsic+json": {
              "type": "string"
            },
            "text/plain": [
              "'1.19.5'"
            ]
          },
          "metadata": {},
          "execution_count": 4
        }
      ]
    },
    {
      "cell_type": "code",
      "execution_count": null,
      "metadata": {
        "colab": {
          "base_uri": "https://localhost:8080/"
        },
        "id": "bywQpNY8B1B-",
        "outputId": "a2086ead-3bab-4c5b-f947-33801c8155e1"
      },
      "outputs": [
        {
          "output_type": "stream",
          "name": "stdout",
          "text": [
            "Hello world\n"
          ]
        }
      ],
      "source": [
        "print(\"Hello world\")"
      ]
    },
    {
      "cell_type": "code",
      "source": [
        "np.random.rand?"
      ],
      "metadata": {
        "id": "1KOB2MbpJYIx"
      },
      "execution_count": null,
      "outputs": []
    },
    {
      "cell_type": "markdown",
      "source": [
        "[google](https://www.google.co.in/)"
      ],
      "metadata": {
        "id": "lV5CcXwXLZVe"
      }
    },
    {
      "cell_type": "code",
      "source": [
        "import imageai"
      ],
      "metadata": {
        "id": "7GDwGj1UKnmy"
      },
      "execution_count": null,
      "outputs": []
    },
    {
      "cell_type": "code",
      "source": [
        "pi =3.1415926535"
      ],
      "metadata": {
        "id": "A5ZdB2j-ZPjl"
      },
      "execution_count": null,
      "outputs": []
    },
    {
      "cell_type": "code",
      "source": [
        "round(pi,2)"
      ],
      "metadata": {
        "colab": {
          "base_uri": "https://localhost:8080/"
        },
        "id": "bmp5qLIfZWxr",
        "outputId": "de7fa472-3227-48bd-f8ad-10c1ef394a74"
      },
      "execution_count": null,
      "outputs": [
        {
          "output_type": "execute_result",
          "data": {
            "text/plain": [
              "3.14"
            ]
          },
          "metadata": {},
          "execution_count": 13
        }
      ]
    },
    {
      "cell_type": "code",
      "source": [
        "print(\"helllo\",\"hi\",\"how\",\"are\",\"you\", sep='#')"
      ],
      "metadata": {
        "colab": {
          "base_uri": "https://localhost:8080/"
        },
        "id": "rObMKnfWeu97",
        "outputId": "41f3bdd5-3a09-4b76-e75a-82f0e602ddf1"
      },
      "execution_count": null,
      "outputs": [
        {
          "output_type": "stream",
          "name": "stdout",
          "text": [
            "helllo#hi#how#are#you\n"
          ]
        }
      ]
    },
    {
      "cell_type": "markdown",
      "source": [
        " \" Compuns interest  A = p(1+(r/n))**nt \""
      ],
      "metadata": {
        "id": "CfBdJHZs04pb"
      }
    },
    {
      "cell_type": "code",
      "source": [
        "\n",
        "\n",
        "A= round(1000*(1.03)**5,2)"
      ],
      "metadata": {
        "id": "oMmvQAzB0SyV"
      },
      "execution_count": 14,
      "outputs": []
    },
    {
      "cell_type": "code",
      "source": [
        "1000*1.03**5"
      ],
      "metadata": {
        "colab": {
          "base_uri": "https://localhost:8080/"
        },
        "id": "CIzAwt6S2ZZY",
        "outputId": "6fac7dfe-a351-46a8-9e4a-a88be3011bdc"
      },
      "execution_count": 13,
      "outputs": [
        {
          "output_type": "execute_result",
          "data": {
            "text/plain": [
              "1159.2740743000002"
            ]
          },
          "metadata": {},
          "execution_count": 13
        }
      ]
    },
    {
      "cell_type": "markdown",
      "source": [
        "Quadratic equation Δ = b² - 4ac"
      ],
      "metadata": {
        "id": "V1LQ8m1H306k"
      }
    },
    {
      "cell_type": "code",
      "source": [
        "(-4)**2 -4*3*(1)"
      ],
      "metadata": {
        "colab": {
          "base_uri": "https://localhost:8080/"
        },
        "id": "_2VuhjN32RvA",
        "outputId": "60892bee-5036-4844-97c0-dff662e3e277"
      },
      "execution_count": 19,
      "outputs": [
        {
          "output_type": "execute_result",
          "data": {
            "text/plain": [
              "4"
            ]
          },
          "metadata": {},
          "execution_count": 19
        }
      ]
    },
    {
      "cell_type": "code",
      "source": [
        "n =0\n",
        "for i in range (0,11):\n",
        "  n= i+n\n",
        "print(n)"
      ],
      "metadata": {
        "colab": {
          "base_uri": "https://localhost:8080/"
        },
        "id": "q04gKYq355Dz",
        "outputId": "248a76d3-2bba-4d09-e1d8-ad14b2ddfdcc"
      },
      "execution_count": 25,
      "outputs": [
        {
          "output_type": "stream",
          "name": "stdout",
          "text": [
            "55\n"
          ]
        }
      ]
    },
    {
      "cell_type": "code",
      "source": [
        "(10/2)*(11)*4+10"
      ],
      "metadata": {
        "colab": {
          "base_uri": "https://localhost:8080/"
        },
        "id": "_l438-Fz7VYl",
        "outputId": "345bc826-5e20-4b81-e8e9-4a4d95ce25d2"
      },
      "execution_count": 29,
      "outputs": [
        {
          "output_type": "execute_result",
          "data": {
            "text/plain": [
              "230.0"
            ]
          },
          "metadata": {},
          "execution_count": 29
        }
      ]
    },
    {
      "cell_type": "code",
      "source": [
        "n=1\n",
        "\n",
        "x1=10+4*n\n",
        "x1"
      ],
      "metadata": {
        "colab": {
          "base_uri": "https://localhost:8080/"
        },
        "id": "xlbfOW2_55Sy",
        "outputId": "dfde8a6d-f1b9-4bba-a3d7-a5eba0825214"
      },
      "execution_count": 37,
      "outputs": [
        {
          "output_type": "execute_result",
          "data": {
            "text/plain": [
              "14"
            ]
          },
          "metadata": {},
          "execution_count": 37
        }
      ]
    },
    {
      "cell_type": "markdown",
      "source": [
        "Quadratic equation = (a0+an)/2*n"
      ],
      "metadata": {
        "id": "YWbrSxs2MwE1"
      }
    },
    {
      "cell_type": "code",
      "source": [
        "n=10\n",
        "x10=10+4*n\n",
        "x10\n"
      ],
      "metadata": {
        "colab": {
          "base_uri": "https://localhost:8080/"
        },
        "id": "5e1ILtwm92DD",
        "outputId": "a092b848-7511-4866-9fb4-04fb67b4ace3"
      },
      "execution_count": 38,
      "outputs": [
        {
          "output_type": "execute_result",
          "data": {
            "text/plain": [
              "50"
            ]
          },
          "metadata": {},
          "execution_count": 38
        }
      ]
    },
    {
      "cell_type": "code",
      "source": [
        "(14+50)/2*10"
      ],
      "metadata": {
        "colab": {
          "base_uri": "https://localhost:8080/"
        },
        "id": "SszWEVf6-KwZ",
        "outputId": "6f6c9524-d8fc-4701-d628-caf772049a9e"
      },
      "execution_count": 41,
      "outputs": [
        {
          "output_type": "execute_result",
          "data": {
            "text/plain": [
              "320.0"
            ]
          },
          "metadata": {},
          "execution_count": 41
        }
      ]
    },
    {
      "cell_type": "code",
      "source": [
        "a1 = 14\n",
        "a10 = 50\n",
        "n=10\n",
        "\n",
        "d = float(n*(a1+a10)/2)\n",
        "print(\"The sum of first 10 elements in a sequence:\",d)"
      ],
      "metadata": {
        "colab": {
          "base_uri": "https://localhost:8080/"
        },
        "id": "POXkrBlI-3JI",
        "outputId": "e48a189c-920d-4112-ba08-b79f45c25f14"
      },
      "execution_count": 44,
      "outputs": [
        {
          "output_type": "stream",
          "name": "stdout",
          "text": [
            "The sum of first 10 elements in a sequence: 320.0\n"
          ]
        }
      ]
    },
    {
      "cell_type": "code",
      "source": [
        "8*(2**5)/2*6"
      ],
      "metadata": {
        "colab": {
          "base_uri": "https://localhost:8080/"
        },
        "id": "xiJS__Ml-3Az",
        "outputId": "78187768-6595-43d8-8042-9206b6d85819"
      },
      "execution_count": 55,
      "outputs": [
        {
          "output_type": "execute_result",
          "data": {
            "text/plain": [
              "768.0"
            ]
          },
          "metadata": {},
          "execution_count": 55
        }
      ]
    },
    {
      "cell_type": "markdown",
      "source": [
        "Geometric Sequence a((1-r**n)/(1-r))   (r as a common ratio an/a0)\n"
      ],
      "metadata": {
        "id": "1ZfU0ip1NAAV"
      }
    },
    {
      "cell_type": "code",
      "source": [
        "a1=8\n",
        "a2=8*2\n",
        "n=6\n",
        "r=a2/a1\n",
        "z=a1*((1-r**n)/(1-r))\n",
        "z"
      ],
      "metadata": {
        "colab": {
          "base_uri": "https://localhost:8080/"
        },
        "id": "BxSxkjmtNm0j",
        "outputId": "f41a9d5e-7c5f-45a8-87b7-7933146bf3b0"
      },
      "execution_count": 63,
      "outputs": [
        {
          "output_type": "execute_result",
          "data": {
            "text/plain": [
              "504.0"
            ]
          },
          "metadata": {},
          "execution_count": 63
        }
      ]
    },
    {
      "cell_type": "code",
      "source": [
        "a1 = 8\n",
        "a2 = 8 * 2\n",
        "n = 6\n",
        "q = a2 / a1\n",
        "s6 = a1 * ((1 - q**n) / (1 - q))\n",
        "s6"
      ],
      "metadata": {
        "colab": {
          "base_uri": "https://localhost:8080/"
        },
        "id": "erlNzrVzN_dC",
        "outputId": "6df18dde-d702-4112-deca-4f7553ebb120"
      },
      "execution_count": 58,
      "outputs": [
        {
          "output_type": "execute_result",
          "data": {
            "text/plain": [
              "504.0"
            ]
          },
          "metadata": {},
          "execution_count": 58
        }
      ]
    },
    {
      "cell_type": "markdown",
      "source": [
        "\"veita's formula ax**2 + bx +c ,then r1+r2 = -b/a and r1r2 = c/a\""
      ],
      "metadata": {
        "id": "Zvc93v5MWHaE"
      }
    },
    {
      "cell_type": "code",
      "source": [
        "a=1\n",
        "b=5\n",
        "c=4\n",
        "\n",
        "x= (-b/a)\n",
        "y=c/a\n",
        "print(f\"x1 + x2= {x}\\nx1x2 = {y}\")"
      ],
      "metadata": {
        "colab": {
          "base_uri": "https://localhost:8080/"
        },
        "id": "rhvoAlMfWYx4",
        "outputId": "efbb3040-bc12-4be1-e58c-51035082a98f"
      },
      "execution_count": 72,
      "outputs": [
        {
          "output_type": "stream",
          "name": "stdout",
          "text": [
            "x1 + x2= -5.0\n",
            "x1x2 = 4.0\n"
          ]
        }
      ]
    },
    {
      "cell_type": "code",
      "source": [
        "x1=2\n",
        "x2=-4\n",
        "\n",
        "y1=4\n",
        "y2=6\n",
        "\n",
        "p1=(x1+x2)/2\n",
        "p2=(y1+y2)/2\n",
        "\n",
        "print(f\"({p1},{p2})\")"
      ],
      "metadata": {
        "colab": {
          "base_uri": "https://localhost:8080/"
        },
        "id": "6WaZD4EsY81T",
        "outputId": "4352f81c-3e6f-4796-d2e4-069cdabb61ca"
      },
      "execution_count": 80,
      "outputs": [
        {
          "output_type": "stream",
          "name": "stdout",
          "text": [
            "(-1.0,5.0)\n"
          ]
        }
      ]
    },
    {
      "cell_type": "markdown",
      "source": [
        "Distance between two point (x1,y1) (x2,y2) = sprt((x2-x1)**2 + (y2-y1)**2)"
      ],
      "metadata": {
        "id": "YleZHh8naqXI"
      }
    },
    {
      "cell_type": "code",
      "source": [
        "x1=3\n",
        "x2=-1\n",
        "y1=2\n",
        "y2=-1\n",
        "\n",
        "s1=(x2-x1)\n",
        "s2=(y2-y1)\n",
        "\n",
        "d= (s1**2 + s2**2)**(1/2)\n",
        "print(f\"The distance between points A and B: {d}\")"
      ],
      "metadata": {
        "colab": {
          "base_uri": "https://localhost:8080/"
        },
        "id": "3ddnEWY5bOVl",
        "outputId": "cce376bb-541f-4634-b7fc-dcdbf387be21"
      },
      "execution_count": 87,
      "outputs": [
        {
          "output_type": "stream",
          "name": "stdout",
          "text": [
            "The distance between points A and B: 5.0\n"
          ]
        }
      ]
    },
    {
      "cell_type": "markdown",
      "source": [
        "root of quadratic equation is (−b±√b**2−4ac)/2a "
      ],
      "metadata": {
        "id": "VUEcxVgqdC83"
      }
    },
    {
      "cell_type": "code",
      "source": [
        "a=1\n",
        "b=5\n",
        "c=4\n",
        "x2 = -b + (b**2-4*a*c)**(1/2)\n",
        "x1 = -b - (b**2-4*a*c)**(1/2)\n",
        "z2 = x2/2\n",
        "z1= x1/2\n",
        "print(f\"x1= {z1}\\nx2= {z2}\")"
      ],
      "metadata": {
        "colab": {
          "base_uri": "https://localhost:8080/"
        },
        "id": "cSBuGSDhdiHU",
        "outputId": "23a04a91-d562-4f25-f6bb-cc345d3ffa3b"
      },
      "execution_count": 111,
      "outputs": [
        {
          "output_type": "stream",
          "name": "stdout",
          "text": [
            "x1= -4.0\n",
            "x2= -1.0\n"
          ]
        }
      ]
    },
    {
      "cell_type": "markdown",
      "source": [
        "GM = n√x1,x2,…xn"
      ],
      "metadata": {
        "id": "n_Y-mTPaixF5"
      }
    },
    {
      "cell_type": "code",
      "source": [
        "\"4,3,4.5,5\"\n",
        "\n",
        "gm = round((4*3*4.5*5)**(1/4),2)\n",
        "print(\"Geometric average of the given numbers: \",gm)"
      ],
      "metadata": {
        "colab": {
          "base_uri": "https://localhost:8080/"
        },
        "id": "1TI6Yf3Xi6bJ",
        "outputId": "6e173107-b1c2-4c7d-fe6d-1036e726d496"
      },
      "execution_count": 119,
      "outputs": [
        {
          "output_type": "stream",
          "name": "stdout",
          "text": [
            "Geometric average of the given numbers:  4.05\n"
          ]
        }
      ]
    },
    {
      "cell_type": "code",
      "source": [
        "a1 = 1\n",
        "a2 = 1/2\n",
        "q = a2 / a1\n",
        "S = a1 / (1 - q)\n"
      ],
      "metadata": {
        "id": "pxH0CUsGk-WK"
      },
      "execution_count": 121,
      "outputs": []
    },
    {
      "cell_type": "code",
      "source": [
        "\n",
        "x1,x2,x3=10,11,9\n",
        "\n",
        "m = (x1+x2+x3)/3\n",
        "z=((x1-m)**2 + (x2-m)**2 + (x3-m)**2)/3\n",
        "y=round(z**(1/2),2)\n",
        "print(y)\n"
      ],
      "metadata": {
        "colab": {
          "base_uri": "https://localhost:8080/"
        },
        "id": "UcSRxGlknOUy",
        "outputId": "da6bf3d1-8cef-4807-f9bd-7659c577d4bb"
      },
      "execution_count": 137,
      "outputs": [
        {
          "output_type": "stream",
          "name": "stdout",
          "text": [
            "0.82\n"
          ]
        }
      ]
    },
    {
      "cell_type": "code",
      "source": [
        ""
      ],
      "metadata": {
        "colab": {
          "base_uri": "https://localhost:8080/"
        },
        "id": "P7SNxDJMo5ED",
        "outputId": "6073b5e8-72b8-4c6f-9290-87f978276bbd"
      },
      "execution_count": 134,
      "outputs": [
        {
          "output_type": "stream",
          "name": "stdout",
          "text": [
            "The standard deviation: 0.82\n"
          ]
        },
        {
          "output_type": "execute_result",
          "data": {
            "text/plain": [
              "0.6666666666666666"
            ]
          },
          "metadata": {},
          "execution_count": 134
        }
      ]
    }
  ]
}