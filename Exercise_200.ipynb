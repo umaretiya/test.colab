{
  "nbformat": 4,
  "nbformat_minor": 0,
  "metadata": {
    "colab": {
      "name": "Exercise_200.ipynb",
      "provenance": [],
      "authorship_tag": "ABX9TyP5qsdxsc0Q2Qm+pc7Dos77",
      "include_colab_link": true
    },
    "kernelspec": {
      "name": "python3",
      "display_name": "Python 3"
    },
    "language_info": {
      "name": "python"
    }
  },
  "cells": [
    {
      "cell_type": "markdown",
      "metadata": {
        "id": "view-in-github",
        "colab_type": "text"
      },
      "source": [
        "<a href=\"https://colab.research.google.com/github/umaretiya/test.colab/blob/Practice01/Exercise_200.ipynb\" target=\"_parent\"><img src=\"https://colab.research.google.com/assets/colab-badge.svg\" alt=\"Open In Colab\"/></a>"
      ]
    },
    {
      "cell_type": "code",
      "execution_count": 4,
      "metadata": {
        "id": "o4V4Pc-XuCyA"
      },
      "outputs": [],
      "source": [
        "project_ids = {\n",
        "    '01': 'open', \n",
        "    '03': 'in progress',\n",
        "    '05': 'in progress',\n",
        "    '04': 'completed'\n",
        "}\n",
        "x=list(set(project_ids.values()))"
      ]
    },
    {
      "cell_type": "code",
      "source": [
        "print(sorted(x))"
      ],
      "metadata": {
        "colab": {
          "base_uri": "https://localhost:8080/"
        },
        "id": "dBOa6aqPuUY2",
        "outputId": "757cf2d0-847e-4bec-e500-d1f176a3821a"
      },
      "execution_count": 6,
      "outputs": [
        {
          "output_type": "stream",
          "name": "stdout",
          "text": [
            "['completed', 'in progress', 'open']\n"
          ]
        }
      ]
    },
    {
      "cell_type": "code",
      "source": [
        "stats = {'site': 'e-smartdata.org', 'traffic': 100, 'type': 'organic'}"
      ],
      "metadata": {
        "id": "86T39ISpvXiq"
      },
      "execution_count": 7,
      "outputs": []
    },
    {
      "cell_type": "code",
      "source": [
        "del stats['traffic']"
      ],
      "metadata": {
        "id": "lY_D8BXGvY_M"
      },
      "execution_count": 11,
      "outputs": []
    },
    {
      "cell_type": "code",
      "source": [
        "stats"
      ],
      "metadata": {
        "colab": {
          "base_uri": "https://localhost:8080/"
        },
        "id": "RjGY7p3Mwkn1",
        "outputId": "30e7b566-9622-401b-db53-2508b506fb0d"
      },
      "execution_count": 12,
      "outputs": [
        {
          "output_type": "execute_result",
          "data": {
            "text/plain": [
              "{'site': 'e-smartdata.org', 'type': 'organic'}"
            ]
          },
          "metadata": {},
          "execution_count": 12
        }
      ]
    },
    {
      "cell_type": "code",
      "source": [
        "users = {'001': 'Mark', '002': 'Monica', '003': 'Jacob'}"
      ],
      "metadata": {
        "id": "xcm6kBLqw3XL"
      },
      "execution_count": 13,
      "outputs": []
    },
    {
      "cell_type": "code",
      "source": [
        "users.get('004','Indfinite')"
      ],
      "metadata": {
        "colab": {
          "base_uri": "https://localhost:8080/",
          "height": 35
        },
        "id": "l7e20cy2w5YR",
        "outputId": "b910f9c0-1055-481e-cede-06bb46453e92"
      },
      "execution_count": 18,
      "outputs": [
        {
          "output_type": "execute_result",
          "data": {
            "application/vnd.google.colaboratory.intrinsic+json": {
              "type": "string"
            },
            "text/plain": [
              "'Indfinite'"
            ]
          },
          "metadata": {},
          "execution_count": 18
        }
      ]
    },
    {
      "cell_type": "code",
      "source": [
        "filename = '01012020_sales.xlsx'"
      ],
      "metadata": {
        "id": "BwoB7eDBxtyx"
      },
      "execution_count": 19,
      "outputs": []
    },
    {
      "cell_type": "code",
      "source": [
        "if filename.endswith('xlsx'):\n",
        "  print('YES')\n",
        "else:\n",
        "  print('NO')"
      ],
      "metadata": {
        "colab": {
          "base_uri": "https://localhost:8080/"
        },
        "id": "Dab2gfdCxvp0",
        "outputId": "17550417-b7a1-4a56-dea3-088e7483d3b4"
      },
      "execution_count": 25,
      "outputs": [
        {
          "output_type": "stream",
          "name": "stdout",
          "text": [
            "YES\n"
          ]
        }
      ]
    },
    {
      "cell_type": "code",
      "source": [
        "code = 'DSVNDOICSN'"
      ],
      "metadata": {
        "id": "IcF4E2TDy-me"
      },
      "execution_count": 26,
      "outputs": []
    },
    {
      "cell_type": "code",
      "source": [
        "if code.isupper :\n",
        "  print('YES')\n",
        "\n",
        "else:\n",
        "  print('NO')"
      ],
      "metadata": {
        "colab": {
          "base_uri": "https://localhost:8080/"
        },
        "id": "d2f-hAV1zATc",
        "outputId": "f2ad8da8-7b6c-4383-9a8e-389dc20d99dd"
      },
      "execution_count": 28,
      "outputs": [
        {
          "output_type": "stream",
          "name": "stdout",
          "text": [
            "YES\n"
          ]
        }
      ]
    },
    {
      "cell_type": "code",
      "source": [
        "number = 1.0"
      ],
      "metadata": {
        "id": "Mod-fRn8zgw6"
      },
      "execution_count": 29,
      "outputs": []
    },
    {
      "cell_type": "code",
      "source": [
        "number.is_integer = False"
      ],
      "metadata": {
        "colab": {
          "base_uri": "https://localhost:8080/",
          "height": 165
        },
        "id": "_f3k1K9xz5Ii",
        "outputId": "c344a1b0-6e3a-4faa-f505-b37fc53a9d18"
      },
      "execution_count": 34,
      "outputs": [
        {
          "output_type": "error",
          "ename": "AttributeError",
          "evalue": "ignored",
          "traceback": [
            "\u001b[0;31m---------------------------------------------------------------------------\u001b[0m",
            "\u001b[0;31mAttributeError\u001b[0m                            Traceback (most recent call last)",
            "\u001b[0;32m<ipython-input-34-b16fbf746ccd>\u001b[0m in \u001b[0;36m<module>\u001b[0;34m()\u001b[0m\n\u001b[0;32m----> 1\u001b[0;31m \u001b[0mnumber\u001b[0m\u001b[0;34m.\u001b[0m\u001b[0mis_integer\u001b[0m \u001b[0;34m=\u001b[0m \u001b[0;32mFalse\u001b[0m\u001b[0;34m\u001b[0m\u001b[0;34m\u001b[0m\u001b[0m\n\u001b[0m",
            "\u001b[0;31mAttributeError\u001b[0m: 'float' object attribute 'is_integer' is read-only"
          ]
        }
      ]
    },
    {
      "cell_type": "code",
      "source": [
        "if number.is_integer :\n",
        "  print('YES')"
      ],
      "metadata": {
        "colab": {
          "base_uri": "https://localhost:8080/"
        },
        "id": "mWWKLO2kziyc",
        "outputId": "89b0ad21-fd3c-45c2-b221-7d1e2d07433e"
      },
      "execution_count": 30,
      "outputs": [
        {
          "output_type": "stream",
          "name": "stdout",
          "text": [
            "YES\n"
          ]
        }
      ]
    },
    {
      "cell_type": "code",
      "source": [
        "password = 'cskdnjcasa#!'\n",
        "password.count(char)"
      ],
      "metadata": {
        "colab": {
          "base_uri": "https://localhost:8080/",
          "height": 183
        },
        "id": "MNp-EJdB1TxO",
        "outputId": "685bb8c2-c48d-46a6-ef42-7c20122a0cc7"
      },
      "execution_count": 40,
      "outputs": [
        {
          "output_type": "error",
          "ename": "NameError",
          "evalue": "ignored",
          "traceback": [
            "\u001b[0;31m---------------------------------------------------------------------------\u001b[0m",
            "\u001b[0;31mNameError\u001b[0m                                 Traceback (most recent call last)",
            "\u001b[0;32m<ipython-input-40-8bf8705cf044>\u001b[0m in \u001b[0;36m<module>\u001b[0;34m()\u001b[0m\n\u001b[1;32m      1\u001b[0m \u001b[0mpassword\u001b[0m \u001b[0;34m=\u001b[0m \u001b[0;34m'cskdnjcasa#!'\u001b[0m\u001b[0;34m\u001b[0m\u001b[0;34m\u001b[0m\u001b[0m\n\u001b[0;32m----> 2\u001b[0;31m \u001b[0mpassword\u001b[0m\u001b[0;34m.\u001b[0m\u001b[0mcount\u001b[0m\u001b[0;34m(\u001b[0m\u001b[0mchar\u001b[0m\u001b[0;34m)\u001b[0m\u001b[0;34m\u001b[0m\u001b[0;34m\u001b[0m\u001b[0m\n\u001b[0m",
            "\u001b[0;31mNameError\u001b[0m: name 'char' is not defined"
          ]
        }
      ]
    },
    {
      "cell_type": "code",
      "source": [
        "password = 'cskdnjcasa#!'\n",
        "\n",
        "if len(password) == 11:\n",
        "    print('Password correct')\n",
        "else:\n",
        "    print('Password too short')"
      ],
      "metadata": {
        "colab": {
          "base_uri": "https://localhost:8080/"
        },
        "id": "AiyWYihz1EzF",
        "outputId": "ff582a6c-7379-403a-8217-eec7488338d9"
      },
      "execution_count": 36,
      "outputs": [
        {
          "output_type": "stream",
          "name": "stdout",
          "text": [
            "Password too short\n"
          ]
        }
      ]
    },
    {
      "cell_type": "code",
      "source": [
        "project_ids = ['02134', '24253']\n",
        "project_id = '02135'"
      ],
      "metadata": {
        "id": "1jCLcAYS27CD"
      },
      "execution_count": 54,
      "outputs": []
    },
    {
      "cell_type": "code",
      "source": [
        "if project_id in project_ids:\n",
        "  print(project_ids.append(project_id))\n",
        "else:\n",
        "  project_ids.append(project_id)\n",
        "  print(project_ids)"
      ],
      "metadata": {
        "colab": {
          "base_uri": "https://localhost:8080/"
        },
        "id": "HM_vt7AN5Zn9",
        "outputId": "2b9ce4f4-e143-429d-e244-8cbb843250d2"
      },
      "execution_count": 55,
      "outputs": [
        {
          "output_type": "stream",
          "name": "stdout",
          "text": [
            "['02134', '24253', '02135']\n"
          ]
        }
      ]
    }
  ]
}