{
  "nbformat": 4,
  "nbformat_minor": 0,
  "metadata": {
    "colab": {
      "name": "Office_laptop.ipynb",
      "provenance": [],
      "collapsed_sections": [],
      "authorship_tag": "ABX9TyP2ZDT+9jVQNd+E9YPdwWjs",
      "include_colab_link": true
    },
    "kernelspec": {
      "name": "python3",
      "display_name": "Python 3"
    },
    "language_info": {
      "name": "python"
    }
  },
  "cells": [
    {
      "cell_type": "markdown",
      "metadata": {
        "id": "view-in-github",
        "colab_type": "text"
      },
      "source": [
        "<a href=\"https://colab.research.google.com/github/umaretiya/test.colab/blob/main/Office_laptop.ipynb\" target=\"_parent\"><img src=\"https://colab.research.google.com/assets/colab-badge.svg\" alt=\"Open In Colab\"/></a>"
      ]
    },
    {
      "cell_type": "code",
      "execution_count": 3,
      "metadata": {
        "id": "6c7EJjhxZ8VG"
      },
      "outputs": [],
      "source": [
        "import numpy as np\n",
        "import pandas as pd\n",
        "import random"
      ]
    },
    {
      "cell_type": "code",
      "source": [
        "a = np.arange(1,24,2)\n",
        "a = a.reshape(3,4)\n",
        "a"
      ],
      "metadata": {
        "colab": {
          "base_uri": "https://localhost:8080/"
        },
        "id": "Rv3qqJsfkPAi",
        "outputId": "6fc01c0c-3bbd-400f-dfb7-8a70bbc7f680"
      },
      "execution_count": 12,
      "outputs": [
        {
          "output_type": "execute_result",
          "data": {
            "text/plain": [
              "array([[ 1,  3,  5,  7],\n",
              "       [ 9, 11, 13, 15],\n",
              "       [17, 19, 21, 23]])"
            ]
          },
          "metadata": {},
          "execution_count": 12
        }
      ]
    },
    {
      "cell_type": "code",
      "source": [
        "n1 = 60\n",
        "n2 = 45\n",
        "#find a LCM of two number\n",
        "#find a HCF of two number\n",
        "num1 = int(input('enter a number one: '))\n",
        "num2 = int(input('enter a number second: '))\n",
        "\n",
        "#HCF(n1,n2) * LCM(n1,n2) = n1*n2\n",
        "#all unique fraction of n1 and fraction of n2 \n",
        "\n",
        "if num1 > num2:\n",
        "  lcm = num1\n",
        "else:\n",
        "  lcm = num2\n",
        "\n",
        "while True:\n",
        "  if lcm%num1 == 0 and lcm%num2 == 0:\n",
        "    break\n",
        "  else:\n",
        "    lcm +=1\n",
        "#9925217315\n",
        "print('LCM is ',lcm)"
      ],
      "metadata": {
        "colab": {
          "base_uri": "https://localhost:8080/"
        },
        "id": "BLC9UMJgkO9L",
        "outputId": "34ef5fd8-e8af-49f9-f012-dd4703b8f1c6"
      },
      "execution_count": 35,
      "outputs": [
        {
          "output_type": "stream",
          "name": "stdout",
          "text": [
            "enter a number one: 20\n",
            "enter a number second: 90\n",
            "LCM is  180\n"
          ]
        }
      ]
    },
    {
      "cell_type": "code",
      "source": [
        "#find a HCF of two number\n",
        "m1 = int(input('enter a number one: '))\n",
        "m2 = int(input('enter a number second: '))\n",
        "\n",
        "if m1 > m2:\n",
        "  hcf = m1\n",
        "else:\n",
        "  hcf = m2\n",
        "\n",
        "while True:\n",
        "  if m1 % hcf == 0 and m2 % hcf == 0:\n",
        "    break\n",
        "  else:\n",
        "    hcf -= 1\n",
        "print('HCG is: ',hcf)"
      ],
      "metadata": {
        "colab": {
          "base_uri": "https://localhost:8080/"
        },
        "id": "HMqIGzlCvcm9",
        "outputId": "abaa9839-3c2b-4cc5-f0d1-8f335ba67a43"
      },
      "execution_count": 33,
      "outputs": [
        {
          "output_type": "stream",
          "name": "stdout",
          "text": [
            "enter a number one: 20\n",
            "enter a number second: 90\n",
            "HCG is:  10\n"
          ]
        }
      ]
    },
    {
      "cell_type": "code",
      "source": [
        "none = int(input())\n",
        "ntwo = int(input())\n",
        "\n",
        "a = none\n",
        "b = ntwo\n",
        "\n",
        "while b != 0:\n",
        "  temp = b\n",
        "  b = a % b\n",
        "  a = temp\n",
        "\n",
        "hcf = a\n",
        "lcm = int((none*ntwo)/hcf)\n",
        "\n",
        "print(f\"HCF = {hcf}, LCM = {lcm}\")"
      ],
      "metadata": {
        "colab": {
          "base_uri": "https://localhost:8080/"
        },
        "id": "lSsYgK7skO4d",
        "outputId": "22925573-f0e1-468b-f52f-1201dbe462ce"
      },
      "execution_count": 37,
      "outputs": [
        {
          "output_type": "stream",
          "name": "stdout",
          "text": [
            "84\n",
            "24\n",
            "HCF = 12, LCM = 168\n"
          ]
        }
      ]
    },
    {
      "cell_type": "code",
      "source": [
        "none = int(input())\n",
        "ntwo = int(input())\n",
        "\n",
        "a = none\n",
        "b = ntwo\n",
        "\n",
        "while a != 0:\n",
        "  temp = a # a=84 so temp =84(second temp = 24)(third temp = 12)\n",
        "  a = b % a # 24%84 = 24 so a = 24(second a = 84%24 =12)(third a = 24%12 = 0)\n",
        "  b = temp # temp = 84 so be = 84(second b = 24)(third b = 12)\n",
        "\n",
        "hcf = b\n",
        "lcm = int((none*ntwo)/hcf)\n",
        "\n",
        "print(f\"HCF = {hcf}, LCM = {lcm}\")"
      ],
      "metadata": {
        "colab": {
          "base_uri": "https://localhost:8080/"
        },
        "id": "AXG5uQsEkOzR",
        "outputId": "c5146276-534a-4150-f70b-3628ff1bb373"
      },
      "execution_count": 38,
      "outputs": [
        {
          "output_type": "stream",
          "name": "stdout",
          "text": [
            "84\n",
            "24\n",
            "HCF = 12, LCM = 168\n"
          ]
        }
      ]
    },
    {
      "cell_type": "code",
      "source": [
        "a = 84\n",
        "b = 24\n",
        "print(b % a)"
      ],
      "metadata": {
        "colab": {
          "base_uri": "https://localhost:8080/"
        },
        "id": "e9CugMG0kOvP",
        "outputId": "592e68f6-9f67-4ba4-d821-2ee1aca38eb9"
      },
      "execution_count": 46,
      "outputs": [
        {
          "output_type": "stream",
          "name": "stdout",
          "text": [
            "24\n"
          ]
        }
      ]
    },
    {
      "cell_type": "code",
      "source": [
        "one = int(input())\n",
        "two = int(input())\n",
        "\n",
        "HCF = 1\n",
        "for i in range(1,one+1):\n",
        "  if one%i == 0 and two%i == 0:\n",
        "    HCF = i\n",
        "print('HCF IS :',HCF)\n",
        "print('LCM Is :', (one*two)/HCF)"
      ],
      "metadata": {
        "colab": {
          "base_uri": "https://localhost:8080/"
        },
        "id": "YYMHeHAjkOqp",
        "outputId": "543c2678-25f2-4dd0-d6f1-a04dd2ef6630"
      },
      "execution_count": 50,
      "outputs": [
        {
          "output_type": "stream",
          "name": "stdout",
          "text": [
            "24\n",
            "84\n",
            "HCF IS : 12\n",
            "LCM Is : 168.0\n"
          ]
        }
      ]
    }
  ]
}