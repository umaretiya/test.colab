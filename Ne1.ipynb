{
  "nbformat": 4,
  "nbformat_minor": 0,
  "metadata": {
    "colab": {
      "name": "Ne1.ipynb",
      "provenance": [],
      "authorship_tag": "ABX9TyP77eYt9LFrzyy5VmiH6bsP",
      "include_colab_link": true
    },
    "kernelspec": {
      "name": "python3",
      "display_name": "Python 3"
    },
    "language_info": {
      "name": "python"
    }
  },
  "cells": [
    {
      "cell_type": "markdown",
      "metadata": {
        "id": "view-in-github",
        "colab_type": "text"
      },
      "source": [
        "<a href=\"https://colab.research.google.com/github/umaretiya/test.colab/blob/Practice01/Ne1.ipynb\" target=\"_parent\"><img src=\"https://colab.research.google.com/assets/colab-badge.svg\" alt=\"Open In Colab\"/></a>"
      ]
    },
    {
      "cell_type": "code",
      "execution_count": 2,
      "metadata": {
        "id": "79wWxDPpi_f0"
      },
      "outputs": [],
      "source": [
        "#$$"
      ]
    },
    {
      "cell_type": "code",
      "source": [
        ""
      ],
      "metadata": {
        "id": "Oz8eW1AtlDnO"
      },
      "execution_count": null,
      "outputs": []
    },
    {
      "cell_type": "markdown",
      "source": [
        "$delta = (-b +sqrt(b^2-4ac))/2a$\n"
      ],
      "metadata": {
        "id": "P98cuYfMkDjF"
      }
    }
  ]
}