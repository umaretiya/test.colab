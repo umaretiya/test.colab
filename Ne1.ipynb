{
  "nbformat": 4,
  "nbformat_minor": 0,
  "metadata": {
    "colab": {
      "name": "Ne1.ipynb",
      "provenance": [],
      "authorship_tag": "ABX9TyOrwnpBnO3W8wjXkIriwjc+",
      "include_colab_link": true
    },
    "kernelspec": {
      "name": "python3",
      "display_name": "Python 3"
    },
    "language_info": {
      "name": "python"
    }
  },
  "cells": [
    {
      "cell_type": "markdown",
      "metadata": {
        "id": "view-in-github",
        "colab_type": "text"
      },
      "source": [
        "<a href=\"https://colab.research.google.com/github/umaretiya/test.colab/blob/Practice01/Ne1.ipynb\" target=\"_parent\"><img src=\"https://colab.research.google.com/assets/colab-badge.svg\" alt=\"Open In Colab\"/></a>"
      ]
    },
    {
      "cell_type": "code",
      "execution_count": 2,
      "metadata": {
        "id": "79wWxDPpi_f0"
      },
      "outputs": [],
      "source": [
        "#$$"
      ]
    },
    {
      "cell_type": "code",
      "source": [
        ""
      ],
      "metadata": {
        "id": "Oz8eW1AtlDnO"
      },
      "execution_count": null,
      "outputs": []
    },
    {
      "cell_type": "markdown",
      "source": [
        "$delta = (-b +sqrt(b^2-4ac))/2a$\n"
      ],
      "metadata": {
        "id": "P98cuYfMkDjF"
      }
    },
    {
      "cell_type": "code",
      "source": [
        "string = 'PKV-89415-PLN'"
      ],
      "metadata": {
        "id": "lrxLsfC4nl_b"
      },
      "execution_count": 3,
      "outputs": []
    },
    {
      "cell_type": "code",
      "source": [
        "r= string.split('-')"
      ],
      "metadata": {
        "id": "G1jBKW-3n0tL"
      },
      "execution_count": 5,
      "outputs": []
    },
    {
      "cell_type": "code",
      "source": [
        "r[0]+r[2]"
      ],
      "metadata": {
        "colab": {
          "base_uri": "https://localhost:8080/",
          "height": 35
        },
        "id": "lMb3EGsXoGzr",
        "outputId": "bc650f8d-137f-41b3-cc55-a5f433205bea"
      },
      "execution_count": 9,
      "outputs": [
        {
          "output_type": "execute_result",
          "data": {
            "application/vnd.google.colaboratory.intrinsic+json": {
              "type": "string"
            },
            "text/plain": [
              "'PKVPLN'"
            ]
          },
          "metadata": {},
          "execution_count": 9
        }
      ]
    },
    {
      "cell_type": "code",
      "source": [
        "string = 'PKV-89415-PLN'"
      ],
      "metadata": {
        "id": "DloxdHVEoGkX"
      },
      "execution_count": 10,
      "outputs": []
    },
    {
      "cell_type": "code",
      "source": [
        "r1=string[0:3]"
      ],
      "metadata": {
        "id": "BjO5t4Xpoaki"
      },
      "execution_count": 13,
      "outputs": []
    },
    {
      "cell_type": "code",
      "source": [
        "string[-1:]"
      ],
      "metadata": {
        "colab": {
          "base_uri": "https://localhost:8080/",
          "height": 35
        },
        "id": "Z0_zbJAqoaPx",
        "outputId": "a66ddb88-89c6-41dc-c2bb-c92d4e9cc5f5"
      },
      "execution_count": 24,
      "outputs": [
        {
          "output_type": "execute_result",
          "data": {
            "application/vnd.google.colaboratory.intrinsic+json": {
              "type": "string"
            },
            "text/plain": [
              "'N'"
            ]
          },
          "metadata": {},
          "execution_count": 24
        }
      ]
    },
    {
      "cell_type": "code",
      "source": [
        "r1+r1"
      ],
      "metadata": {
        "colab": {
          "base_uri": "https://localhost:8080/",
          "height": 35
        },
        "id": "Zvpo7Bh1o9Si",
        "outputId": "357cf06d-e0f7-4fab-952d-425a9e51a91d"
      },
      "execution_count": 21,
      "outputs": [
        {
          "output_type": "execute_result",
          "data": {
            "application/vnd.google.colaboratory.intrinsic+json": {
              "type": "string"
            },
            "text/plain": [
              "'PKVPKV'"
            ]
          },
          "metadata": {},
          "execution_count": 21
        }
      ]
    },
    {
      "cell_type": "code",
      "source": [
        "string = '1 0 0 1 0 1'"
      ],
      "metadata": {
        "id": "fY1flL_8pX-4"
      },
      "execution_count": 25,
      "outputs": []
    },
    {
      "cell_type": "code",
      "source": [
        "string = '1 0 0 1 0 1'\n"
      ],
      "metadata": {
        "id": "E84doU2zx8MJ"
      },
      "execution_count": 62,
      "outputs": []
    },
    {
      "cell_type": "code",
      "source": [
        "binary = string[::2]\n",
        "int(binary)"
      ],
      "metadata": {
        "colab": {
          "base_uri": "https://localhost:8080/"
        },
        "id": "eru-8AuxyBms",
        "outputId": "0b98127f-5e1a-4fa0-bce0-7b14ad67595c"
      },
      "execution_count": 72,
      "outputs": [
        {
          "output_type": "execute_result",
          "data": {
            "text/plain": [
              "100101"
            ]
          },
          "metadata": {},
          "execution_count": 72
        }
      ]
    },
    {
      "cell_type": "code",
      "source": [
        "int(binary, 2)"
      ],
      "metadata": {
        "colab": {
          "base_uri": "https://localhost:8080/"
        },
        "id": "FacPerhxyBaV",
        "outputId": "987776ba-e357-4345-d902-d5e3e4e44fd0"
      },
      "execution_count": 74,
      "outputs": [
        {
          "output_type": "execute_result",
          "data": {
            "text/plain": [
              "37"
            ]
          },
          "metadata": {},
          "execution_count": 74
        }
      ]
    },
    {
      "cell_type": "code",
      "source": [
        "print(f'Number found: {number}')"
      ],
      "metadata": {
        "id": "LKltxC3zyBDy"
      },
      "execution_count": null,
      "outputs": []
    },
    {
      "cell_type": "code",
      "source": [
        "text = 'Python Course'\n",
        "text[::-1]"
      ],
      "metadata": {
        "colab": {
          "base_uri": "https://localhost:8080/",
          "height": 35
        },
        "id": "M_3k5faR3k6W",
        "outputId": "e2488d59-6e05-41b0-c1bb-5cd006573ce9"
      },
      "execution_count": 77,
      "outputs": [
        {
          "output_type": "execute_result",
          "data": {
            "application/vnd.google.colaboratory.intrinsic+json": {
              "type": "string"
            },
            "text/plain": [
              "'esruoC nohtyP'"
            ]
          },
          "metadata": {},
          "execution_count": 77
        }
      ]
    },
    {
      "cell_type": "code",
      "source": [
        "flag = False"
      ],
      "metadata": {
        "id": "N8yYZPtR5iiX"
      },
      "execution_count": 78,
      "outputs": []
    },
    {
      "cell_type": "code",
      "source": [
        "print(type(flag)==bool)"
      ],
      "metadata": {
        "colab": {
          "base_uri": "https://localhost:8080/"
        },
        "id": "OxWuP0FQ5k8g",
        "outputId": "eea9e139-5d0c-4c53-c978-19efecb81836"
      },
      "execution_count": 83,
      "outputs": [
        {
          "output_type": "stream",
          "name": "stdout",
          "text": [
            "True\n"
          ]
        }
      ]
    },
    {
      "cell_type": "code",
      "source": [
        "text = 'python is a popular programming language.'\n",
        "text.count('p')"
      ],
      "metadata": {
        "colab": {
          "base_uri": "https://localhost:8080/"
        },
        "id": "LNlgEHwt6j8Z",
        "outputId": "4f9d671d-bb99-480d-d847-908f489b0c63"
      },
      "execution_count": 99,
      "outputs": [
        {
          "output_type": "execute_result",
          "data": {
            "text/plain": [
              "4"
            ]
          },
          "metadata": {},
          "execution_count": 99
        }
      ]
    },
    {
      "cell_type": "code",
      "source": [
        "print(f\"Number of occurrences: {text.count('p')}\")"
      ],
      "metadata": {
        "colab": {
          "base_uri": "https://localhost:8080/"
        },
        "id": "DpiZoR2v7SC_",
        "outputId": "01061503-eeeb-40dc-8e50-988918fab02d"
      },
      "execution_count": 101,
      "outputs": [
        {
          "output_type": "stream",
          "name": "stdout",
          "text": [
            "Number of occurrences: 4\n"
          ]
        }
      ]
    },
    {
      "cell_type": "code",
      "source": [
        "code1 = 'FVNISJND-XX-2020'\n",
        "code2 = 'FVNISJND-XY-2019'"
      ],
      "metadata": {
        "id": "ZLgeiQ9N9Bmu"
      },
      "execution_count": 102,
      "outputs": []
    },
    {
      "cell_type": "code",
      "source": [
        "print(f\"code1 = {code1.endswith('2020')}\")\n",
        "print(f\"code2 = {code2.endswith('2020')}\")"
      ],
      "metadata": {
        "colab": {
          "base_uri": "https://localhost:8080/"
        },
        "id": "7YWb0qM49Dlm",
        "outputId": "1225e0ce-fc5b-484a-846c-6f9c1f637748"
      },
      "execution_count": 131,
      "outputs": [
        {
          "output_type": "stream",
          "name": "stdout",
          "text": [
            "code1 = True\n",
            "code2 = False\n"
          ]
        }
      ]
    },
    {
      "cell_type": "code",
      "source": [
        "path1 = 'youtube.com/watch?v=5EhRztVxums'\n",
        "path2 = 'google.com/search?q=car'"
      ],
      "metadata": {
        "id": "3tJSIGYVBarI"
      },
      "execution_count": 135,
      "outputs": []
    },
    {
      "cell_type": "code",
      "source": [
        "print(f\"path1: {path1.startswith('youtube')}\")\n",
        "print(f\"path2: {path2.startswith('youtube')}\")"
      ],
      "metadata": {
        "colab": {
          "base_uri": "https://localhost:8080/"
        },
        "id": "ggTV-ourBtlP",
        "outputId": "c49e452f-16a2-4eab-be55-90309c0a1a26"
      },
      "execution_count": 138,
      "outputs": [
        {
          "output_type": "stream",
          "name": "stdout",
          "text": [
            "path1: True\n",
            "path2: False\n"
          ]
        }
      ]
    },
    {
      "cell_type": "code",
      "source": [
        "path1 = 'https://e-smartdata.teachable.com/p/sciezka-data-scientist-machine-learning-engineer'\n",
        "path2 = 'https://e-smartdata.teachable.com/p/sciezka-data-scientist-deep-learning-engineer'\n",
        "path3 = 'https://e-smartdata.teachable.com/p/sciezka-bi-analyst-data-analyst'"
      ],
      "metadata": {
        "id": "cd20rX1FCV5S"
      },
      "execution_count": 139,
      "outputs": []
    },
    {
      "cell_type": "code",
      "source": [
        "print(f\"path1: {path1.find('scientist')}\")\n",
        "print(f\"path2: {path2.find('scientist')}\")\n",
        "print(f\"path3: {path3.find('scientist')}\")"
      ],
      "metadata": {
        "colab": {
          "base_uri": "https://localhost:8080/"
        },
        "id": "LtIz7YeaDcz2",
        "outputId": "9a84dec6-f455-45cf-ebd5-409626df81e6"
      },
      "execution_count": 152,
      "outputs": [
        {
          "output_type": "stream",
          "name": "stdout",
          "text": [
            "path1: 49\n",
            "path2: 49\n",
            "path3: -1\n"
          ]
        }
      ]
    },
    {
      "cell_type": "code",
      "source": [
        "code1 = 'FVNISJND-20'\n",
        "code2 = 'FVNISJND20'"
      ],
      "metadata": {
        "id": "LBn3tqMsFZNb"
      },
      "execution_count": 153,
      "outputs": []
    },
    {
      "cell_type": "code",
      "source": [
        "print(f\"code1: {code1.isalnum()}\")\n",
        "print(f\"code2: {code2.isalnum()}\")"
      ],
      "metadata": {
        "colab": {
          "base_uri": "https://localhost:8080/"
        },
        "id": "n2gPdSY6Fa2X",
        "outputId": "aabb6923-3387-4887-d560-1af59e20c8f3"
      },
      "execution_count": 156,
      "outputs": [
        {
          "output_type": "stream",
          "name": "stdout",
          "text": [
            "code1: False\n",
            "code2: True\n"
          ]
        }
      ]
    },
    {
      "cell_type": "code",
      "source": [
        "text = 'Google Colab'\n",
        "text.upper()"
      ],
      "metadata": {
        "colab": {
          "base_uri": "https://localhost:8080/",
          "height": 35
        },
        "id": "RhvN-WlPGFcc",
        "outputId": "77caf6b6-cc0c-4e85-d28e-5de59692d90b"
      },
      "execution_count": 159,
      "outputs": [
        {
          "output_type": "execute_result",
          "data": {
            "application/vnd.google.colaboratory.intrinsic+json": {
              "type": "string"
            },
            "text/plain": [
              "'GOOGLE COLAB'"
            ]
          },
          "metadata": {},
          "execution_count": 159
        }
      ]
    },
    {
      "cell_type": "code",
      "source": [
        "text = '  Google Colab   '\n",
        "text.strip()"
      ],
      "metadata": {
        "colab": {
          "base_uri": "https://localhost:8080/",
          "height": 35
        },
        "id": "eohPriEQGqR4",
        "outputId": "01dbc17e-7a3b-4573-9a09-f2aad4523d23"
      },
      "execution_count": 160,
      "outputs": [
        {
          "output_type": "execute_result",
          "data": {
            "application/vnd.google.colaboratory.intrinsic+json": {
              "type": "string"
            },
            "text/plain": [
              "'Google Colab'"
            ]
          },
          "metadata": {},
          "execution_count": 160
        }
      ]
    },
    {
      "cell_type": "code",
      "source": [
        "code = 'FVNISJND-XX'\n",
        "code.replace('-',' ')"
      ],
      "metadata": {
        "colab": {
          "base_uri": "https://localhost:8080/",
          "height": 35
        },
        "id": "ysag3ZhBG8Fc",
        "outputId": "1db8928a-6ed2-4593-b192-3c32bcde4d0d"
      },
      "execution_count": 162,
      "outputs": [
        {
          "output_type": "execute_result",
          "data": {
            "application/vnd.google.colaboratory.intrinsic+json": {
              "type": "string"
            },
            "text/plain": [
              "'FVNISJND XX'"
            ]
          },
          "metadata": {},
          "execution_count": 162
        }
      ]
    },
    {
      "cell_type": "code",
      "source": [
        "text = '340-23-245-235'\n",
        "text.format()\n"
      ],
      "metadata": {
        "colab": {
          "base_uri": "https://localhost:8080/",
          "height": 35
        },
        "id": "-kt8N-eDHQHz",
        "outputId": "5423c9a1-69b2-41b1-d6d1-7f6bc83e9412"
      },
      "execution_count": 168,
      "outputs": [
        {
          "output_type": "execute_result",
          "data": {
            "application/vnd.google.colaboratory.intrinsic+json": {
              "type": "string"
            },
            "text/plain": [
              "'340-23-245-235'"
            ]
          },
          "metadata": {},
          "execution_count": 168
        }
      ]
    },
    {
      "cell_type": "code",
      "source": [
        "text = '340-23-245-235'\n",
        "print(text.replace('-',''))"
      ],
      "metadata": {
        "colab": {
          "base_uri": "https://localhost:8080/"
        },
        "id": "fYEm5AXxIuCn",
        "outputId": "c581d658-697f-479e-8e3e-39cf9c91ee87"
      },
      "execution_count": 169,
      "outputs": [
        {
          "output_type": "stream",
          "name": "stdout",
          "text": [
            "34023245235\n"
          ]
        }
      ]
    },
    {
      "cell_type": "code",
      "source": [
        "text = 'Open,High,Low,Close'\n",
        "print(text.split(','))"
      ],
      "metadata": {
        "colab": {
          "base_uri": "https://localhost:8080/"
        },
        "id": "edTIaliLI7qz",
        "outputId": "e5e4cc02-09ca-49c0-8329-d8b2e7c0a495"
      },
      "execution_count": 172,
      "outputs": [
        {
          "output_type": "stream",
          "name": "stdout",
          "text": [
            "['Open', 'High', 'Low', 'Close']\n"
          ]
        }
      ]
    },
    {
      "cell_type": "code",
      "source": [
        "text = \"\"\"Python is a general-purpose language.\n",
        "Python is popular.\"\"\"\n",
        "text.splitlines()"
      ],
      "metadata": {
        "colab": {
          "base_uri": "https://localhost:8080/"
        },
        "id": "XSQ335egJhoj",
        "outputId": "5ad0d423-4798-47a2-9ce3-fe2ab61b5139"
      },
      "execution_count": 179,
      "outputs": [
        {
          "output_type": "execute_result",
          "data": {
            "text/plain": [
              "['Python is a general-purpose language.', 'Python is popular.']"
            ]
          },
          "metadata": {},
          "execution_count": 179
        }
      ]
    },
    {
      "cell_type": "code",
      "source": [
        "num = 34\n",
        "print('000'+str(num))\n"
      ],
      "metadata": {
        "colab": {
          "base_uri": "https://localhost:8080/"
        },
        "id": "VwNwa_4tLOPf",
        "outputId": "2329e39a-c02c-4a83-f7a0-4dee4d0c75e6"
      },
      "execution_count": 186,
      "outputs": [
        {
          "output_type": "stream",
          "name": "stdout",
          "text": [
            "00034\n"
          ]
        }
      ]
    },
    {
      "cell_type": "code",
      "source": [
        "str.zfill()\n"
      ],
      "metadata": {
        "colab": {
          "base_uri": "https://localhost:8080/",
          "height": 35
        },
        "id": "xL3dntLsLxcT",
        "outputId": "8ecfcfcc-56d7-4961-bb84-669744e2d9d0"
      },
      "execution_count": 187,
      "outputs": [
        {
          "output_type": "execute_result",
          "data": {
            "application/vnd.google.colaboratory.intrinsic+json": {
              "type": "string"
            },
            "text/plain": [
              "'000034'"
            ]
          },
          "metadata": {},
          "execution_count": 187
        }
      ]
    },
    {
      "cell_type": "code",
      "source": [
        "url = 'https://e-smartdata.teachable.com/p/sciezka-data-scientist-machine-learning-engineer'"
      ],
      "metadata": {
        "id": "xx0KkpgeMcDN"
      },
      "execution_count": 188,
      "outputs": []
    },
    {
      "cell_type": "code",
      "source": [
        "name=url.split('/')[-1]\n",
        "print(name.replace('-',' '))"
      ],
      "metadata": {
        "colab": {
          "base_uri": "https://localhost:8080/"
        },
        "id": "5Tik2j98MeXH",
        "outputId": "79322991-e7a1-4f40-8d00-8fffa583b769"
      },
      "execution_count": 196,
      "outputs": [
        {
          "output_type": "stream",
          "name": "stdout",
          "text": [
            "sciezka data scientist machine learning engineer\n"
          ]
        }
      ]
    },
    {
      "cell_type": "code",
      "source": [
        "subjects = {'mathematics', 'biology'}\n",
        "subjects.add('english')\n",
        "print(subjects)"
      ],
      "metadata": {
        "colab": {
          "base_uri": "https://localhost:8080/"
        },
        "id": "mCQX-S1SQ6du",
        "outputId": "ebedcfa9-7b3d-47c1-f969-9ad23a9e2435"
      },
      "execution_count": 213,
      "outputs": [
        {
          "output_type": "stream",
          "name": "stdout",
          "text": [
            "{'mathematics', 'biology', 'english'}\n"
          ]
        }
      ]
    }
  ]
}